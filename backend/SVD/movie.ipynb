{
 "cells": [
  {
   "cell_type": "code",
   "execution_count": 37,
   "metadata": {},
   "outputs": [],
   "source": [
    "import numpy as np \n",
    "import pandas as pd\n",
    "from scipy.sparse.linalg import svds\n",
    "\n"
   ]
  },
  {
   "cell_type": "code",
   "execution_count": 7,
   "metadata": {},
   "outputs": [
    {
     "data": {
      "text/html": "<div>\n<style scoped>\n    .dataframe tbody tr th:only-of-type {\n        vertical-align: middle;\n    }\n\n    .dataframe tbody tr th {\n        vertical-align: top;\n    }\n\n    .dataframe thead th {\n        text-align: right;\n    }\n</style>\n<table border=\"1\" class=\"dataframe\">\n  <thead>\n    <tr style=\"text-align: right;\">\n      <th></th>\n      <th>userId</th>\n      <th>movieId</th>\n      <th>rating</th>\n      <th>timestamp</th>\n    </tr>\n  </thead>\n  <tbody>\n    <tr>\n      <th>0</th>\n      <td>1</td>\n      <td>31</td>\n      <td>2.5</td>\n      <td>1260759144</td>\n    </tr>\n    <tr>\n      <th>1</th>\n      <td>1</td>\n      <td>1029</td>\n      <td>3.0</td>\n      <td>1260759179</td>\n    </tr>\n    <tr>\n      <th>2</th>\n      <td>1</td>\n      <td>1061</td>\n      <td>3.0</td>\n      <td>1260759182</td>\n    </tr>\n    <tr>\n      <th>3</th>\n      <td>1</td>\n      <td>1129</td>\n      <td>2.0</td>\n      <td>1260759185</td>\n    </tr>\n    <tr>\n      <th>4</th>\n      <td>1</td>\n      <td>1172</td>\n      <td>4.0</td>\n      <td>1260759205</td>\n    </tr>\n  </tbody>\n</table>\n</div>",
      "text/plain": "   userId  movieId  rating   timestamp\n0       1       31     2.5  1260759144\n1       1     1029     3.0  1260759179\n2       1     1061     3.0  1260759182\n3       1     1129     2.0  1260759185\n4       1     1172     4.0  1260759205"
     },
     "execution_count": 7,
     "metadata": {},
     "output_type": "execute_result"
    }
   ],
   "source": [
    "ratings = pd.read_csv('./input/ratings_small.csv')\n",
    "ratings.head()\n",
    "# Lecture du fichier CSV"
   ]
  },
  {
   "cell_type": "code",
   "execution_count": 8,
   "metadata": {},
   "outputs": [],
   "source": [
    "user_item = ratings.groupby(['userId', 'movieId'])['rating'].first().unstack(fill_value=0.0)\n",
    "# Liaison de userId, movieId depuis le rating"
   ]
  },
  {
   "cell_type": "code",
   "execution_count": 9,
   "metadata": {},
   "outputs": [
    {
     "data": {
      "text/plain": "(671, 9066)"
     },
     "execution_count": 9,
     "metadata": {},
     "output_type": "execute_result"
    }
   ],
   "source": [
    "user_item.shape"
   ]
  },
  {
   "cell_type": "code",
   "execution_count": 35,
   "metadata": {},
   "outputs": [
    {
     "data": {
      "text/plain": "<bound method NDFrame.describe of movieId  1       2       3       4       5       6       7       8       \\\nuserId                                                                    \n1           0.0     0.0     0.0     0.0     0.0     0.0     0.0     0.0   \n2           0.0     0.0     0.0     0.0     0.0     0.0     0.0     0.0   \n3           0.0     0.0     0.0     0.0     0.0     0.0     0.0     0.0   \n4           0.0     0.0     0.0     0.0     0.0     0.0     0.0     0.0   \n5           0.0     0.0     4.0     0.0     0.0     0.0     0.0     0.0   \n...         ...     ...     ...     ...     ...     ...     ...     ...   \n667         0.0     0.0     0.0     0.0     0.0     4.0     0.0     0.0   \n668         0.0     0.0     0.0     0.0     0.0     0.0     0.0     0.0   \n669         0.0     0.0     0.0     0.0     0.0     0.0     0.0     0.0   \n670         4.0     0.0     0.0     0.0     0.0     0.0     0.0     0.0   \n671         5.0     0.0     0.0     0.0     0.0     0.0     0.0     0.0   \n\nmovieId  9       10      ...  161084  161155  161594  161830  161918  161944  \\\nuserId                   ...                                                   \n1           0.0     0.0  ...     0.0     0.0     0.0     0.0     0.0     0.0   \n2           0.0     4.0  ...     0.0     0.0     0.0     0.0     0.0     0.0   \n3           0.0     0.0  ...     0.0     0.0     0.0     0.0     0.0     0.0   \n4           0.0     4.0  ...     0.0     0.0     0.0     0.0     0.0     0.0   \n5           0.0     0.0  ...     0.0     0.0     0.0     0.0     0.0     0.0   \n...         ...     ...  ...     ...     ...     ...     ...     ...     ...   \n667         0.0     0.0  ...     0.0     0.0     0.0     0.0     0.0     0.0   \n668         0.0     0.0  ...     0.0     0.0     0.0     0.0     0.0     0.0   \n669         0.0     0.0  ...     0.0     0.0     0.0     0.0     0.0     0.0   \n670         0.0     0.0  ...     0.0     0.0     0.0     0.0     0.0     0.0   \n671         0.0     0.0  ...     0.0     0.0     0.0     0.0     0.0     0.0   \n\nmovieId  162376  162542  162672  163949  \nuserId                                   \n1           0.0     0.0     0.0     0.0  \n2           0.0     0.0     0.0     0.0  \n3           0.0     0.0     0.0     0.0  \n4           0.0     0.0     0.0     0.0  \n5           0.0     0.0     0.0     0.0  \n...         ...     ...     ...     ...  \n667         0.0     0.0     0.0     0.0  \n668         0.0     0.0     0.0     0.0  \n669         0.0     0.0     0.0     0.0  \n670         0.0     0.0     0.0     0.0  \n671         0.0     0.0     0.0     0.0  \n\n[671 rows x 9066 columns]>"
     },
     "execution_count": 35,
     "metadata": {},
     "output_type": "execute_result"
    }
   ],
   "source": [
    "user_item.describe"
   ]
  },
  {
   "cell_type": "code",
   "execution_count": 10,
   "metadata": {},
   "outputs": [
    {
     "data": {
      "text/plain": "movieId\n457     5.0\n1196    5.0\n318     5.0\n1036    5.0\n1097    5.0\nName: 42, dtype: float64"
     },
     "execution_count": 10,
     "metadata": {},
     "output_type": "execute_result"
    }
   ],
   "source": [
    "user_item.loc[42].sort_values(ascending=False).head()\n",
    "# Trie des valeur pour l'user_item 42"
   ]
  },
  {
   "cell_type": "code",
   "execution_count": 40,
   "metadata": {},
   "outputs": [],
   "source": [
    "U, sigma, Vt = svds(user_item.to_numpy(), k=50)\n",
    "#U, sigma et VT sont des matrices\n",
    "#svds décompose partiellement en valeurs singulières d'une matrice creuse.\n",
    "\n"
   ]
  },
  {
   "cell_type": "code",
   "execution_count": 41,
   "metadata": {},
   "outputs": [
    {
     "data": {
      "text/plain": "(671, 50)"
     },
     "execution_count": 41,
     "metadata": {},
     "output_type": "execute_result"
    }
   ],
   "source": [
    "U.shape"
   ]
  },
  {
   "cell_type": "code",
   "execution_count": 42,
   "metadata": {},
   "outputs": [
    {
     "data": {
      "text/plain": "(50, 9066)"
     },
     "execution_count": 42,
     "metadata": {},
     "output_type": "execute_result"
    }
   ],
   "source": [
    "Vt.shape"
   ]
  },
  {
   "cell_type": "code",
   "execution_count": 43,
   "metadata": {},
   "outputs": [],
   "source": [
    "sigma_diag_matrix=np.diag(sigma)\n",
    "# La méthode diag sert a créer / extraire une diagonale"
   ]
  },
  {
   "cell_type": "code",
   "execution_count": 44,
   "metadata": {},
   "outputs": [],
   "source": [
    "all_user_predicted_ratings = np.dot(np.dot(U, sigma_diag_matrix), Vt)\n",
    "# Ici la variable all_user est un produit scalaire des matrices / diagonale, la methode dot est la pour\n",
    "preds_df = pd.DataFrame(all_user_predicted_ratings, columns = user_item.columns, index=user_item.index)\n",
    "# On crée un Dataframe"
   ]
  },
  {
   "cell_type": "code",
   "execution_count": 45,
   "metadata": {},
   "outputs": [
    {
     "data": {
      "text/plain": "(671, 9066)"
     },
     "execution_count": 45,
     "metadata": {},
     "output_type": "execute_result"
    }
   ],
   "source": [
    "preds_df.shape"
   ]
  },
  {
   "cell_type": "code",
   "execution_count": 46,
   "metadata": {},
   "outputs": [
    {
     "data": {
      "text/html": "<div>\n<style scoped>\n    .dataframe tbody tr th:only-of-type {\n        vertical-align: middle;\n    }\n\n    .dataframe tbody tr th {\n        vertical-align: top;\n    }\n\n    .dataframe thead th {\n        text-align: right;\n    }\n</style>\n<table border=\"1\" class=\"dataframe\">\n  <thead>\n    <tr style=\"text-align: right;\">\n      <th>movieId</th>\n      <th>1</th>\n      <th>2</th>\n      <th>3</th>\n      <th>4</th>\n      <th>5</th>\n      <th>6</th>\n      <th>7</th>\n      <th>8</th>\n      <th>9</th>\n      <th>10</th>\n      <th>...</th>\n      <th>161084</th>\n      <th>161155</th>\n      <th>161594</th>\n      <th>161830</th>\n      <th>161918</th>\n      <th>161944</th>\n      <th>162376</th>\n      <th>162542</th>\n      <th>162672</th>\n      <th>163949</th>\n    </tr>\n    <tr>\n      <th>userId</th>\n      <th></th>\n      <th></th>\n      <th></th>\n      <th></th>\n      <th></th>\n      <th></th>\n      <th></th>\n      <th></th>\n      <th></th>\n      <th></th>\n      <th></th>\n      <th></th>\n      <th></th>\n      <th></th>\n      <th></th>\n      <th></th>\n      <th></th>\n      <th></th>\n      <th></th>\n      <th></th>\n      <th></th>\n    </tr>\n  </thead>\n  <tbody>\n    <tr>\n      <th>1</th>\n      <td>-0.057419</td>\n      <td>0.044156</td>\n      <td>-0.003525</td>\n      <td>-0.014026</td>\n      <td>-0.011693</td>\n      <td>0.037647</td>\n      <td>-0.011436</td>\n      <td>-0.012794</td>\n      <td>0.017412</td>\n      <td>0.037456</td>\n      <td>...</td>\n      <td>-0.001519</td>\n      <td>0.000171</td>\n      <td>0.016497</td>\n      <td>0.000130</td>\n      <td>0.000195</td>\n      <td>-0.013686</td>\n      <td>0.024746</td>\n      <td>-0.000700</td>\n      <td>-0.000420</td>\n      <td>-0.003038</td>\n    </tr>\n    <tr>\n      <th>2</th>\n      <td>0.397099</td>\n      <td>1.422453</td>\n      <td>-0.175735</td>\n      <td>0.166606</td>\n      <td>0.269432</td>\n      <td>0.385791</td>\n      <td>0.068086</td>\n      <td>0.043673</td>\n      <td>-0.004759</td>\n      <td>2.241940</td>\n      <td>...</td>\n      <td>-0.002005</td>\n      <td>0.000998</td>\n      <td>-0.007596</td>\n      <td>0.000552</td>\n      <td>0.000828</td>\n      <td>-0.059196</td>\n      <td>-0.011395</td>\n      <td>0.005804</td>\n      <td>0.003482</td>\n      <td>-0.004010</td>\n    </tr>\n    <tr>\n      <th>3</th>\n      <td>1.275403</td>\n      <td>0.296807</td>\n      <td>0.033442</td>\n      <td>-0.010834</td>\n      <td>0.100854</td>\n      <td>0.062972</td>\n      <td>-0.088911</td>\n      <td>0.009645</td>\n      <td>-0.002955</td>\n      <td>0.227495</td>\n      <td>...</td>\n      <td>-0.002610</td>\n      <td>-0.004553</td>\n      <td>-0.011604</td>\n      <td>0.000279</td>\n      <td>0.000419</td>\n      <td>-0.008031</td>\n      <td>-0.017406</td>\n      <td>0.008379</td>\n      <td>0.005027</td>\n      <td>-0.005219</td>\n    </tr>\n    <tr>\n      <th>4</th>\n      <td>1.183095</td>\n      <td>1.016435</td>\n      <td>0.105598</td>\n      <td>0.074721</td>\n      <td>-0.337196</td>\n      <td>-1.433923</td>\n      <td>-0.337587</td>\n      <td>-0.154619</td>\n      <td>-0.056599</td>\n      <td>1.551431</td>\n      <td>...</td>\n      <td>0.023616</td>\n      <td>0.008438</td>\n      <td>0.058714</td>\n      <td>0.003375</td>\n      <td>0.005062</td>\n      <td>0.150868</td>\n      <td>0.088071</td>\n      <td>-0.023062</td>\n      <td>-0.013837</td>\n      <td>0.047233</td>\n    </tr>\n    <tr>\n      <th>5</th>\n      <td>1.338518</td>\n      <td>1.510306</td>\n      <td>0.655975</td>\n      <td>-0.030616</td>\n      <td>0.764755</td>\n      <td>-0.159291</td>\n      <td>0.009004</td>\n      <td>0.054437</td>\n      <td>-0.134904</td>\n      <td>0.396755</td>\n      <td>...</td>\n      <td>0.001700</td>\n      <td>-0.000225</td>\n      <td>0.016028</td>\n      <td>0.006308</td>\n      <td>0.009463</td>\n      <td>-0.005235</td>\n      <td>0.024042</td>\n      <td>0.013163</td>\n      <td>0.007898</td>\n      <td>0.003400</td>\n    </tr>\n  </tbody>\n</table>\n<p>5 rows × 9066 columns</p>\n</div>",
      "text/plain": "movieId    1         2         3         4         5         6         7       \\\nuserId                                                                          \n1       -0.057419  0.044156 -0.003525 -0.014026 -0.011693  0.037647 -0.011436   \n2        0.397099  1.422453 -0.175735  0.166606  0.269432  0.385791  0.068086   \n3        1.275403  0.296807  0.033442 -0.010834  0.100854  0.062972 -0.088911   \n4        1.183095  1.016435  0.105598  0.074721 -0.337196 -1.433923 -0.337587   \n5        1.338518  1.510306  0.655975 -0.030616  0.764755 -0.159291  0.009004   \n\nmovieId    8         9         10      ...    161084    161155    161594  \\\nuserId                                 ...                                 \n1       -0.012794  0.017412  0.037456  ... -0.001519  0.000171  0.016497   \n2        0.043673 -0.004759  2.241940  ... -0.002005  0.000998 -0.007596   \n3        0.009645 -0.002955  0.227495  ... -0.002610 -0.004553 -0.011604   \n4       -0.154619 -0.056599  1.551431  ...  0.023616  0.008438  0.058714   \n5        0.054437 -0.134904  0.396755  ...  0.001700 -0.000225  0.016028   \n\nmovieId    161830    161918    161944    162376    162542    162672    163949  \nuserId                                                                         \n1        0.000130  0.000195 -0.013686  0.024746 -0.000700 -0.000420 -0.003038  \n2        0.000552  0.000828 -0.059196 -0.011395  0.005804  0.003482 -0.004010  \n3        0.000279  0.000419 -0.008031 -0.017406  0.008379  0.005027 -0.005219  \n4        0.003375  0.005062  0.150868  0.088071 -0.023062 -0.013837  0.047233  \n5        0.006308  0.009463 -0.005235  0.024042  0.013163  0.007898  0.003400  \n\n[5 rows x 9066 columns]"
     },
     "execution_count": 46,
     "metadata": {},
     "output_type": "execute_result"
    }
   ],
   "source": [
    "preds_df.head()"
   ]
  },
  {
   "cell_type": "code",
   "execution_count": 47,
   "metadata": {},
   "outputs": [
    {
     "data": {
      "text/plain": "movieId\n457     5.0\n1196    5.0\n318     5.0\n1036    5.0\n1097    5.0\n1200    5.0\n480     5.0\n296     5.0\n589     5.0\n4993    5.0\nName: 42, dtype: float64"
     },
     "execution_count": 47,
     "metadata": {},
     "output_type": "execute_result"
    }
   ],
   "source": [
    "user_item.loc[42].sort_values(ascending=False).head(10)"
   ]
  },
  {
   "cell_type": "code",
   "execution_count": 48,
   "metadata": {},
   "outputs": [],
   "source": [
    "movies_user_42 = user_item.loc[42]"
   ]
  },
  {
   "cell_type": "code",
   "execution_count": 49,
   "metadata": {},
   "outputs": [],
   "source": [
    "high_rated_movies_42 = movies_user_42[movies_user_42 > 3].index"
   ]
  },
  {
   "cell_type": "code",
   "execution_count": 50,
   "metadata": {},
   "outputs": [
    {
     "data": {
      "text/plain": "Int64Index([   110,    165,    260,    296,    318,    349,    356,    380,\n               457,    480,    508,    527,    588,    589,    648,    733,\n               780,   1036,   1097,   1196,   1198,   1200,   1210,   1291,\n              1370,   1527,   1704,   1721,   2028,   2571,   2916,   2985,\n              3793,   4886,   4993,   5349,   5952,   7153,   7502,   8636,\n              8961,  33794,  40815,  44191,  48394,  48516,  58559,  59315,\n             68358,  69844,  70286,  73017,  74458,  76093,  79132,  87232,\n             89745,  91529, 106782, 109487, 112852, 122886],\n           dtype='int64', name='movieId')"
     },
     "execution_count": 50,
     "metadata": {},
     "output_type": "execute_result"
    }
   ],
   "source": [
    "high_rated_movies_42"
   ]
  },
  {
   "cell_type": "code",
   "execution_count": 51,
   "metadata": {},
   "outputs": [],
   "source": [
    "movies_recommended_for_42 = preds_df.loc[42]"
   ]
  },
  {
   "cell_type": "code",
   "execution_count": 52,
   "metadata": {},
   "outputs": [],
   "source": [
    "movies_high_recommend_for_42 = movies_recommended_for_42[movies_recommended_for_42 > 3].index"
   ]
  },
  {
   "cell_type": "code",
   "execution_count": 53,
   "metadata": {},
   "outputs": [
    {
     "data": {
      "text/plain": "Int64Index([110, 260, 318, 356, 480, 589, 1196, 1198, 1210, 2571, 4993, 5952,\n            7153, 58559],\n           dtype='int64', name='movieId')"
     },
     "execution_count": 53,
     "metadata": {},
     "output_type": "execute_result"
    }
   ],
   "source": [
    "movies_high_recommend_for_42"
   ]
  },
  {
   "cell_type": "code",
   "execution_count": 54,
   "metadata": {},
   "outputs": [
    {
     "data": {
      "text/plain": "set()"
     },
     "execution_count": 54,
     "metadata": {},
     "output_type": "execute_result"
    }
   ],
   "source": [
    "set(movies_high_recommend_for_42) - set(high_rated_movies_42)"
   ]
  },
  {
   "cell_type": "code",
   "execution_count": 55,
   "metadata": {},
   "outputs": [],
   "source": [
    "def get_high_recommended_movies(userId):\n",
    "    movies_rated_by_user = user_item.loc[userId]\n",
    "    movies_high_rated_by_user =  movies_rated_by_user[movies_rated_by_user > 3].index\n",
    "    movies_recommended_for_user = preds_df.loc[userId]\n",
    "    movies_high_recommend_for_user = movies_recommended_for_user[movies_recommended_for_user > 3].index\n",
    "    return set(movies_high_recommend_for_user) - set(movies_high_rated_by_user)"
   ]
  },
  {
   "cell_type": "code",
   "execution_count": 56,
   "metadata": {},
   "outputs": [
    {
     "data": {
      "text/plain": "set()"
     },
     "execution_count": 56,
     "metadata": {},
     "output_type": "execute_result"
    }
   ],
   "source": [
    "get_high_recommended_movies(42)"
   ]
  },
  {
   "cell_type": "code",
   "execution_count": 57,
   "metadata": {},
   "outputs": [
    {
     "data": {
      "text/plain": "set()"
     },
     "execution_count": 57,
     "metadata": {},
     "output_type": "execute_result"
    }
   ],
   "source": [
    "get_high_recommended_movies(314)"
   ]
  },
  {
   "cell_type": "code",
   "execution_count": 58,
   "metadata": {},
   "outputs": [
    {
     "data": {
      "text/plain": "{1198}"
     },
     "execution_count": 58,
     "metadata": {},
     "output_type": "execute_result"
    }
   ],
   "source": [
    "get_high_recommended_movies(217)"
   ]
  },
  {
   "cell_type": "code",
   "execution_count": 59,
   "metadata": {},
   "outputs": [
    {
     "data": {
      "text/plain": "4.206618332064976"
     },
     "execution_count": 59,
     "metadata": {},
     "output_type": "execute_result"
    }
   ],
   "source": [
    "preds_df.loc[217, 1198]"
   ]
  }
 ],
 "metadata": {
  "kernelspec": {
   "display_name": "Python 3.10.7 64-bit ('venv': venv)",
   "metadata": {
    "interpreter": {
     "hash": "ebdf75f88c9a99a6b19b7b7f48568830c6929d2dc3c88d9f1c941abe0e017a21"
    }
   },
   "name": "python3"
  },
  "language_info": {
   "codemirror_mode": {
    "name": "ipython",
    "version": 3
   },
   "file_extension": ".py",
   "mimetype": "text/x-python",
   "name": "python",
   "nbconvert_exporter": "python",
   "pygments_lexer": "ipython3",
   "version": "3.10.7"
  },
  "orig_nbformat": 2
 },
 "nbformat": 4,
 "nbformat_minor": 2
}